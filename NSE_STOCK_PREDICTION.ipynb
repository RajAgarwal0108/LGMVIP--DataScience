{
 "cells": [
  {
   "cell_type": "markdown",
   "id": "c9652df4",
   "metadata": {},
   "source": [
    "## Stock Market Prediction And Forecasting Using Stacked LSTM\n",
    "\n",
    "Dataset link: https://raw.githubusercontent.com/mwitiderrick/stockprice/master/NSE-TATAGLOBAL.csv"
   ]
  },
  {
   "cell_type": "markdown",
   "id": "6afe3fef",
   "metadata": {},
   "source": [
    "## Tasks:\n",
    "    \n",
    "    1. Load the dataset\n",
    "    2. Data Observation\n",
    "    3. Feature Selection\n",
    "    4. Feature Scaling -- MinMax Scaler\n",
    "    5. Split the Dataset into train and test data\n",
    "    6. Creating a time series dataset matrix\n",
    "    7. LSTM model creation\n",
    "    8. Data Prediction"
   ]
  },
  {
   "cell_type": "markdown",
   "id": "e4bb83d4",
   "metadata": {},
   "source": [
    "### Loading the dataset"
   ]
  },
  {
   "cell_type": "code",
   "execution_count": 1,
   "id": "e8e63c70",
   "metadata": {},
   "outputs": [],
   "source": [
    "import pandas as pd"
   ]
  },
  {
   "cell_type": "code",
   "execution_count": 2,
   "id": "2a8ff369",
   "metadata": {},
   "outputs": [],
   "source": [
    "df = pd.read_csv('NSE-TATAGLOBAL.csv')"
   ]
  },
  {
   "cell_type": "markdown",
   "id": "fcb81024",
   "metadata": {},
   "source": [
    "### Data Observation"
   ]
  },
  {
   "cell_type": "code",
   "execution_count": 3,
   "id": "2b2922ec",
   "metadata": {},
   "outputs": [
    {
     "data": {
      "text/html": [
       "<div>\n",
       "<style scoped>\n",
       "    .dataframe tbody tr th:only-of-type {\n",
       "        vertical-align: middle;\n",
       "    }\n",
       "\n",
       "    .dataframe tbody tr th {\n",
       "        vertical-align: top;\n",
       "    }\n",
       "\n",
       "    .dataframe thead th {\n",
       "        text-align: right;\n",
       "    }\n",
       "</style>\n",
       "<table border=\"1\" class=\"dataframe\">\n",
       "  <thead>\n",
       "    <tr style=\"text-align: right;\">\n",
       "      <th></th>\n",
       "      <th>Date</th>\n",
       "      <th>Open</th>\n",
       "      <th>High</th>\n",
       "      <th>Low</th>\n",
       "      <th>Last</th>\n",
       "      <th>Close</th>\n",
       "      <th>Total Trade Quantity</th>\n",
       "      <th>Turnover (Lacs)</th>\n",
       "    </tr>\n",
       "  </thead>\n",
       "  <tbody>\n",
       "    <tr>\n",
       "      <th>0</th>\n",
       "      <td>2018-09-28</td>\n",
       "      <td>234.05</td>\n",
       "      <td>235.95</td>\n",
       "      <td>230.20</td>\n",
       "      <td>233.50</td>\n",
       "      <td>233.75</td>\n",
       "      <td>3069914</td>\n",
       "      <td>7162.35</td>\n",
       "    </tr>\n",
       "    <tr>\n",
       "      <th>1</th>\n",
       "      <td>2018-09-27</td>\n",
       "      <td>234.55</td>\n",
       "      <td>236.80</td>\n",
       "      <td>231.10</td>\n",
       "      <td>233.80</td>\n",
       "      <td>233.25</td>\n",
       "      <td>5082859</td>\n",
       "      <td>11859.95</td>\n",
       "    </tr>\n",
       "    <tr>\n",
       "      <th>2</th>\n",
       "      <td>2018-09-26</td>\n",
       "      <td>240.00</td>\n",
       "      <td>240.00</td>\n",
       "      <td>232.50</td>\n",
       "      <td>235.00</td>\n",
       "      <td>234.25</td>\n",
       "      <td>2240909</td>\n",
       "      <td>5248.60</td>\n",
       "    </tr>\n",
       "    <tr>\n",
       "      <th>3</th>\n",
       "      <td>2018-09-25</td>\n",
       "      <td>233.30</td>\n",
       "      <td>236.75</td>\n",
       "      <td>232.00</td>\n",
       "      <td>236.25</td>\n",
       "      <td>236.10</td>\n",
       "      <td>2349368</td>\n",
       "      <td>5503.90</td>\n",
       "    </tr>\n",
       "    <tr>\n",
       "      <th>4</th>\n",
       "      <td>2018-09-24</td>\n",
       "      <td>233.55</td>\n",
       "      <td>239.20</td>\n",
       "      <td>230.75</td>\n",
       "      <td>234.00</td>\n",
       "      <td>233.30</td>\n",
       "      <td>3423509</td>\n",
       "      <td>7999.55</td>\n",
       "    </tr>\n",
       "    <tr>\n",
       "      <th>...</th>\n",
       "      <td>...</td>\n",
       "      <td>...</td>\n",
       "      <td>...</td>\n",
       "      <td>...</td>\n",
       "      <td>...</td>\n",
       "      <td>...</td>\n",
       "      <td>...</td>\n",
       "      <td>...</td>\n",
       "    </tr>\n",
       "    <tr>\n",
       "      <th>2030</th>\n",
       "      <td>2010-07-27</td>\n",
       "      <td>117.60</td>\n",
       "      <td>119.50</td>\n",
       "      <td>112.00</td>\n",
       "      <td>118.80</td>\n",
       "      <td>118.65</td>\n",
       "      <td>586100</td>\n",
       "      <td>694.98</td>\n",
       "    </tr>\n",
       "    <tr>\n",
       "      <th>2031</th>\n",
       "      <td>2010-07-26</td>\n",
       "      <td>120.10</td>\n",
       "      <td>121.00</td>\n",
       "      <td>117.10</td>\n",
       "      <td>117.10</td>\n",
       "      <td>117.60</td>\n",
       "      <td>658440</td>\n",
       "      <td>780.01</td>\n",
       "    </tr>\n",
       "    <tr>\n",
       "      <th>2032</th>\n",
       "      <td>2010-07-23</td>\n",
       "      <td>121.80</td>\n",
       "      <td>121.95</td>\n",
       "      <td>120.25</td>\n",
       "      <td>120.35</td>\n",
       "      <td>120.65</td>\n",
       "      <td>281312</td>\n",
       "      <td>340.31</td>\n",
       "    </tr>\n",
       "    <tr>\n",
       "      <th>2033</th>\n",
       "      <td>2010-07-22</td>\n",
       "      <td>120.30</td>\n",
       "      <td>122.00</td>\n",
       "      <td>120.25</td>\n",
       "      <td>120.75</td>\n",
       "      <td>120.90</td>\n",
       "      <td>293312</td>\n",
       "      <td>355.17</td>\n",
       "    </tr>\n",
       "    <tr>\n",
       "      <th>2034</th>\n",
       "      <td>2010-07-21</td>\n",
       "      <td>122.10</td>\n",
       "      <td>123.00</td>\n",
       "      <td>121.05</td>\n",
       "      <td>121.10</td>\n",
       "      <td>121.55</td>\n",
       "      <td>658666</td>\n",
       "      <td>803.56</td>\n",
       "    </tr>\n",
       "  </tbody>\n",
       "</table>\n",
       "<p>2035 rows × 8 columns</p>\n",
       "</div>"
      ],
      "text/plain": [
       "            Date    Open    High     Low    Last   Close  \\\n",
       "0     2018-09-28  234.05  235.95  230.20  233.50  233.75   \n",
       "1     2018-09-27  234.55  236.80  231.10  233.80  233.25   \n",
       "2     2018-09-26  240.00  240.00  232.50  235.00  234.25   \n",
       "3     2018-09-25  233.30  236.75  232.00  236.25  236.10   \n",
       "4     2018-09-24  233.55  239.20  230.75  234.00  233.30   \n",
       "...          ...     ...     ...     ...     ...     ...   \n",
       "2030  2010-07-27  117.60  119.50  112.00  118.80  118.65   \n",
       "2031  2010-07-26  120.10  121.00  117.10  117.10  117.60   \n",
       "2032  2010-07-23  121.80  121.95  120.25  120.35  120.65   \n",
       "2033  2010-07-22  120.30  122.00  120.25  120.75  120.90   \n",
       "2034  2010-07-21  122.10  123.00  121.05  121.10  121.55   \n",
       "\n",
       "      Total Trade Quantity  Turnover (Lacs)  \n",
       "0                  3069914          7162.35  \n",
       "1                  5082859         11859.95  \n",
       "2                  2240909          5248.60  \n",
       "3                  2349368          5503.90  \n",
       "4                  3423509          7999.55  \n",
       "...                    ...              ...  \n",
       "2030                586100           694.98  \n",
       "2031                658440           780.01  \n",
       "2032                281312           340.31  \n",
       "2033                293312           355.17  \n",
       "2034                658666           803.56  \n",
       "\n",
       "[2035 rows x 8 columns]"
      ]
     },
     "execution_count": 3,
     "metadata": {},
     "output_type": "execute_result"
    }
   ],
   "source": [
    "df"
   ]
  },
  {
   "cell_type": "code",
   "execution_count": 4,
   "id": "76aeb4a8",
   "metadata": {},
   "outputs": [
    {
     "name": "stdout",
     "output_type": "stream",
     "text": [
      "<class 'pandas.core.frame.DataFrame'>\n",
      "RangeIndex: 2035 entries, 0 to 2034\n",
      "Data columns (total 8 columns):\n",
      " #   Column                Non-Null Count  Dtype  \n",
      "---  ------                --------------  -----  \n",
      " 0   Date                  2035 non-null   object \n",
      " 1   Open                  2035 non-null   float64\n",
      " 2   High                  2035 non-null   float64\n",
      " 3   Low                   2035 non-null   float64\n",
      " 4   Last                  2035 non-null   float64\n",
      " 5   Close                 2035 non-null   float64\n",
      " 6   Total Trade Quantity  2035 non-null   int64  \n",
      " 7   Turnover (Lacs)       2035 non-null   float64\n",
      "dtypes: float64(6), int64(1), object(1)\n",
      "memory usage: 127.3+ KB\n"
     ]
    }
   ],
   "source": [
    "df.info()"
   ]
  },
  {
   "cell_type": "code",
   "execution_count": 5,
   "id": "abca9952",
   "metadata": {},
   "outputs": [
    {
     "data": {
      "text/html": [
       "<div>\n",
       "<style scoped>\n",
       "    .dataframe tbody tr th:only-of-type {\n",
       "        vertical-align: middle;\n",
       "    }\n",
       "\n",
       "    .dataframe tbody tr th {\n",
       "        vertical-align: top;\n",
       "    }\n",
       "\n",
       "    .dataframe thead th {\n",
       "        text-align: right;\n",
       "    }\n",
       "</style>\n",
       "<table border=\"1\" class=\"dataframe\">\n",
       "  <thead>\n",
       "    <tr style=\"text-align: right;\">\n",
       "      <th></th>\n",
       "      <th>Open</th>\n",
       "      <th>High</th>\n",
       "      <th>Low</th>\n",
       "      <th>Last</th>\n",
       "      <th>Close</th>\n",
       "      <th>Total Trade Quantity</th>\n",
       "      <th>Turnover (Lacs)</th>\n",
       "    </tr>\n",
       "  </thead>\n",
       "  <tbody>\n",
       "    <tr>\n",
       "      <th>count</th>\n",
       "      <td>2035.000000</td>\n",
       "      <td>2035.000000</td>\n",
       "      <td>2035.000000</td>\n",
       "      <td>2035.000000</td>\n",
       "      <td>2035.00000</td>\n",
       "      <td>2.035000e+03</td>\n",
       "      <td>2035.000000</td>\n",
       "    </tr>\n",
       "    <tr>\n",
       "      <th>mean</th>\n",
       "      <td>149.713735</td>\n",
       "      <td>151.992826</td>\n",
       "      <td>147.293931</td>\n",
       "      <td>149.474251</td>\n",
       "      <td>149.45027</td>\n",
       "      <td>2.335681e+06</td>\n",
       "      <td>3899.980565</td>\n",
       "    </tr>\n",
       "    <tr>\n",
       "      <th>std</th>\n",
       "      <td>48.664509</td>\n",
       "      <td>49.413109</td>\n",
       "      <td>47.931958</td>\n",
       "      <td>48.732570</td>\n",
       "      <td>48.71204</td>\n",
       "      <td>2.091778e+06</td>\n",
       "      <td>4570.767877</td>\n",
       "    </tr>\n",
       "    <tr>\n",
       "      <th>min</th>\n",
       "      <td>81.100000</td>\n",
       "      <td>82.800000</td>\n",
       "      <td>80.000000</td>\n",
       "      <td>81.000000</td>\n",
       "      <td>80.95000</td>\n",
       "      <td>3.961000e+04</td>\n",
       "      <td>37.040000</td>\n",
       "    </tr>\n",
       "    <tr>\n",
       "      <th>25%</th>\n",
       "      <td>120.025000</td>\n",
       "      <td>122.100000</td>\n",
       "      <td>118.300000</td>\n",
       "      <td>120.075000</td>\n",
       "      <td>120.05000</td>\n",
       "      <td>1.146444e+06</td>\n",
       "      <td>1427.460000</td>\n",
       "    </tr>\n",
       "    <tr>\n",
       "      <th>50%</th>\n",
       "      <td>141.500000</td>\n",
       "      <td>143.400000</td>\n",
       "      <td>139.600000</td>\n",
       "      <td>141.100000</td>\n",
       "      <td>141.25000</td>\n",
       "      <td>1.783456e+06</td>\n",
       "      <td>2512.030000</td>\n",
       "    </tr>\n",
       "    <tr>\n",
       "      <th>75%</th>\n",
       "      <td>157.175000</td>\n",
       "      <td>159.400000</td>\n",
       "      <td>155.150000</td>\n",
       "      <td>156.925000</td>\n",
       "      <td>156.90000</td>\n",
       "      <td>2.813594e+06</td>\n",
       "      <td>4539.015000</td>\n",
       "    </tr>\n",
       "    <tr>\n",
       "      <th>max</th>\n",
       "      <td>327.700000</td>\n",
       "      <td>328.750000</td>\n",
       "      <td>321.650000</td>\n",
       "      <td>325.950000</td>\n",
       "      <td>325.75000</td>\n",
       "      <td>2.919102e+07</td>\n",
       "      <td>55755.080000</td>\n",
       "    </tr>\n",
       "  </tbody>\n",
       "</table>\n",
       "</div>"
      ],
      "text/plain": [
       "              Open         High          Low         Last       Close  \\\n",
       "count  2035.000000  2035.000000  2035.000000  2035.000000  2035.00000   \n",
       "mean    149.713735   151.992826   147.293931   149.474251   149.45027   \n",
       "std      48.664509    49.413109    47.931958    48.732570    48.71204   \n",
       "min      81.100000    82.800000    80.000000    81.000000    80.95000   \n",
       "25%     120.025000   122.100000   118.300000   120.075000   120.05000   \n",
       "50%     141.500000   143.400000   139.600000   141.100000   141.25000   \n",
       "75%     157.175000   159.400000   155.150000   156.925000   156.90000   \n",
       "max     327.700000   328.750000   321.650000   325.950000   325.75000   \n",
       "\n",
       "       Total Trade Quantity  Turnover (Lacs)  \n",
       "count          2.035000e+03      2035.000000  \n",
       "mean           2.335681e+06      3899.980565  \n",
       "std            2.091778e+06      4570.767877  \n",
       "min            3.961000e+04        37.040000  \n",
       "25%            1.146444e+06      1427.460000  \n",
       "50%            1.783456e+06      2512.030000  \n",
       "75%            2.813594e+06      4539.015000  \n",
       "max            2.919102e+07     55755.080000  "
      ]
     },
     "execution_count": 5,
     "metadata": {},
     "output_type": "execute_result"
    }
   ],
   "source": [
    "df.describe()"
   ]
  },
  {
   "cell_type": "code",
   "execution_count": 6,
   "id": "4fbdd48e",
   "metadata": {},
   "outputs": [
    {
     "data": {
      "text/plain": [
       "Date                    0\n",
       "Open                    0\n",
       "High                    0\n",
       "Low                     0\n",
       "Last                    0\n",
       "Close                   0\n",
       "Total Trade Quantity    0\n",
       "Turnover (Lacs)         0\n",
       "dtype: int64"
      ]
     },
     "execution_count": 6,
     "metadata": {},
     "output_type": "execute_result"
    }
   ],
   "source": [
    "df.isnull().sum()"
   ]
  },
  {
   "cell_type": "code",
   "execution_count": 7,
   "id": "7df33c29",
   "metadata": {},
   "outputs": [
    {
     "data": {
      "text/plain": [
       "0"
      ]
     },
     "execution_count": 7,
     "metadata": {},
     "output_type": "execute_result"
    }
   ],
   "source": [
    "df.duplicated().sum()"
   ]
  },
  {
   "cell_type": "code",
   "execution_count": 8,
   "id": "f4e6b7fa",
   "metadata": {},
   "outputs": [
    {
     "data": {
      "text/plain": [
       "'2010-07-21'"
      ]
     },
     "execution_count": 8,
     "metadata": {},
     "output_type": "execute_result"
    }
   ],
   "source": [
    "min(df.Date)"
   ]
  },
  {
   "cell_type": "code",
   "execution_count": 9,
   "id": "860220b4",
   "metadata": {},
   "outputs": [
    {
     "data": {
      "text/plain": [
       "'2018-09-28'"
      ]
     },
     "execution_count": 9,
     "metadata": {},
     "output_type": "execute_result"
    }
   ],
   "source": [
    "max(df.Date)"
   ]
  },
  {
   "cell_type": "markdown",
   "id": "57689244",
   "metadata": {},
   "source": [
    "#### Observations\n",
    "1. There are no null values in the dataset\n",
    "2. All records are unique\n",
    "3. Dataset ranges between '2010-07-21' to '2018-09-28'\n"
   ]
  },
  {
   "cell_type": "markdown",
   "id": "417c3c6b",
   "metadata": {},
   "source": [
    "### Feature Selection"
   ]
  },
  {
   "cell_type": "code",
   "execution_count": 10,
   "id": "1524e45d",
   "metadata": {},
   "outputs": [
    {
     "data": {
      "text/html": [
       "<div>\n",
       "<style scoped>\n",
       "    .dataframe tbody tr th:only-of-type {\n",
       "        vertical-align: middle;\n",
       "    }\n",
       "\n",
       "    .dataframe tbody tr th {\n",
       "        vertical-align: top;\n",
       "    }\n",
       "\n",
       "    .dataframe thead th {\n",
       "        text-align: right;\n",
       "    }\n",
       "</style>\n",
       "<table border=\"1\" class=\"dataframe\">\n",
       "  <thead>\n",
       "    <tr style=\"text-align: right;\">\n",
       "      <th></th>\n",
       "      <th>Date</th>\n",
       "      <th>Open</th>\n",
       "      <th>High</th>\n",
       "      <th>Low</th>\n",
       "      <th>Last</th>\n",
       "      <th>Close</th>\n",
       "      <th>Total Trade Quantity</th>\n",
       "      <th>Turnover (Lacs)</th>\n",
       "    </tr>\n",
       "  </thead>\n",
       "  <tbody>\n",
       "    <tr>\n",
       "      <th>0</th>\n",
       "      <td>2018-09-28</td>\n",
       "      <td>234.05</td>\n",
       "      <td>235.95</td>\n",
       "      <td>230.20</td>\n",
       "      <td>233.50</td>\n",
       "      <td>233.75</td>\n",
       "      <td>3069914</td>\n",
       "      <td>7162.35</td>\n",
       "    </tr>\n",
       "    <tr>\n",
       "      <th>1</th>\n",
       "      <td>2018-09-27</td>\n",
       "      <td>234.55</td>\n",
       "      <td>236.80</td>\n",
       "      <td>231.10</td>\n",
       "      <td>233.80</td>\n",
       "      <td>233.25</td>\n",
       "      <td>5082859</td>\n",
       "      <td>11859.95</td>\n",
       "    </tr>\n",
       "    <tr>\n",
       "      <th>2</th>\n",
       "      <td>2018-09-26</td>\n",
       "      <td>240.00</td>\n",
       "      <td>240.00</td>\n",
       "      <td>232.50</td>\n",
       "      <td>235.00</td>\n",
       "      <td>234.25</td>\n",
       "      <td>2240909</td>\n",
       "      <td>5248.60</td>\n",
       "    </tr>\n",
       "    <tr>\n",
       "      <th>3</th>\n",
       "      <td>2018-09-25</td>\n",
       "      <td>233.30</td>\n",
       "      <td>236.75</td>\n",
       "      <td>232.00</td>\n",
       "      <td>236.25</td>\n",
       "      <td>236.10</td>\n",
       "      <td>2349368</td>\n",
       "      <td>5503.90</td>\n",
       "    </tr>\n",
       "    <tr>\n",
       "      <th>4</th>\n",
       "      <td>2018-09-24</td>\n",
       "      <td>233.55</td>\n",
       "      <td>239.20</td>\n",
       "      <td>230.75</td>\n",
       "      <td>234.00</td>\n",
       "      <td>233.30</td>\n",
       "      <td>3423509</td>\n",
       "      <td>7999.55</td>\n",
       "    </tr>\n",
       "  </tbody>\n",
       "</table>\n",
       "</div>"
      ],
      "text/plain": [
       "         Date    Open    High     Low    Last   Close  Total Trade Quantity  \\\n",
       "0  2018-09-28  234.05  235.95  230.20  233.50  233.75               3069914   \n",
       "1  2018-09-27  234.55  236.80  231.10  233.80  233.25               5082859   \n",
       "2  2018-09-26  240.00  240.00  232.50  235.00  234.25               2240909   \n",
       "3  2018-09-25  233.30  236.75  232.00  236.25  236.10               2349368   \n",
       "4  2018-09-24  233.55  239.20  230.75  234.00  233.30               3423509   \n",
       "\n",
       "   Turnover (Lacs)  \n",
       "0          7162.35  \n",
       "1         11859.95  \n",
       "2          5248.60  \n",
       "3          5503.90  \n",
       "4          7999.55  "
      ]
     },
     "execution_count": 10,
     "metadata": {},
     "output_type": "execute_result"
    }
   ],
   "source": [
    "df.head()"
   ]
  },
  {
   "cell_type": "markdown",
   "id": "d12aa197",
   "metadata": {},
   "source": [
    "1. dataset is sorted in descending order with respect to dates [need to be sorted]\n",
    "2. we can use 'Close' as a feature for our model prediction"
   ]
  },
  {
   "cell_type": "code",
   "execution_count": 11,
   "id": "9c3b2400",
   "metadata": {},
   "outputs": [],
   "source": [
    "df = df.sort_values(by = 'Date')"
   ]
  },
  {
   "cell_type": "code",
   "execution_count": 12,
   "id": "7e48c7e0",
   "metadata": {},
   "outputs": [
    {
     "data": {
      "text/html": [
       "<div>\n",
       "<style scoped>\n",
       "    .dataframe tbody tr th:only-of-type {\n",
       "        vertical-align: middle;\n",
       "    }\n",
       "\n",
       "    .dataframe tbody tr th {\n",
       "        vertical-align: top;\n",
       "    }\n",
       "\n",
       "    .dataframe thead th {\n",
       "        text-align: right;\n",
       "    }\n",
       "</style>\n",
       "<table border=\"1\" class=\"dataframe\">\n",
       "  <thead>\n",
       "    <tr style=\"text-align: right;\">\n",
       "      <th></th>\n",
       "      <th>Date</th>\n",
       "      <th>Open</th>\n",
       "      <th>High</th>\n",
       "      <th>Low</th>\n",
       "      <th>Last</th>\n",
       "      <th>Close</th>\n",
       "      <th>Total Trade Quantity</th>\n",
       "      <th>Turnover (Lacs)</th>\n",
       "    </tr>\n",
       "  </thead>\n",
       "  <tbody>\n",
       "    <tr>\n",
       "      <th>2034</th>\n",
       "      <td>2010-07-21</td>\n",
       "      <td>122.1</td>\n",
       "      <td>123.00</td>\n",
       "      <td>121.05</td>\n",
       "      <td>121.10</td>\n",
       "      <td>121.55</td>\n",
       "      <td>658666</td>\n",
       "      <td>803.56</td>\n",
       "    </tr>\n",
       "    <tr>\n",
       "      <th>2033</th>\n",
       "      <td>2010-07-22</td>\n",
       "      <td>120.3</td>\n",
       "      <td>122.00</td>\n",
       "      <td>120.25</td>\n",
       "      <td>120.75</td>\n",
       "      <td>120.90</td>\n",
       "      <td>293312</td>\n",
       "      <td>355.17</td>\n",
       "    </tr>\n",
       "    <tr>\n",
       "      <th>2032</th>\n",
       "      <td>2010-07-23</td>\n",
       "      <td>121.8</td>\n",
       "      <td>121.95</td>\n",
       "      <td>120.25</td>\n",
       "      <td>120.35</td>\n",
       "      <td>120.65</td>\n",
       "      <td>281312</td>\n",
       "      <td>340.31</td>\n",
       "    </tr>\n",
       "    <tr>\n",
       "      <th>2031</th>\n",
       "      <td>2010-07-26</td>\n",
       "      <td>120.1</td>\n",
       "      <td>121.00</td>\n",
       "      <td>117.10</td>\n",
       "      <td>117.10</td>\n",
       "      <td>117.60</td>\n",
       "      <td>658440</td>\n",
       "      <td>780.01</td>\n",
       "    </tr>\n",
       "    <tr>\n",
       "      <th>2030</th>\n",
       "      <td>2010-07-27</td>\n",
       "      <td>117.6</td>\n",
       "      <td>119.50</td>\n",
       "      <td>112.00</td>\n",
       "      <td>118.80</td>\n",
       "      <td>118.65</td>\n",
       "      <td>586100</td>\n",
       "      <td>694.98</td>\n",
       "    </tr>\n",
       "  </tbody>\n",
       "</table>\n",
       "</div>"
      ],
      "text/plain": [
       "            Date   Open    High     Low    Last   Close  Total Trade Quantity  \\\n",
       "2034  2010-07-21  122.1  123.00  121.05  121.10  121.55                658666   \n",
       "2033  2010-07-22  120.3  122.00  120.25  120.75  120.90                293312   \n",
       "2032  2010-07-23  121.8  121.95  120.25  120.35  120.65                281312   \n",
       "2031  2010-07-26  120.1  121.00  117.10  117.10  117.60                658440   \n",
       "2030  2010-07-27  117.6  119.50  112.00  118.80  118.65                586100   \n",
       "\n",
       "      Turnover (Lacs)  \n",
       "2034           803.56  \n",
       "2033           355.17  \n",
       "2032           340.31  \n",
       "2031           780.01  \n",
       "2030           694.98  "
      ]
     },
     "execution_count": 12,
     "metadata": {},
     "output_type": "execute_result"
    }
   ],
   "source": [
    "df.head()"
   ]
  },
  {
   "cell_type": "code",
   "execution_count": 13,
   "id": "16c59324",
   "metadata": {},
   "outputs": [],
   "source": [
    "df1 = df.reset_index()['Close']"
   ]
  },
  {
   "cell_type": "code",
   "execution_count": 14,
   "id": "25bee986",
   "metadata": {},
   "outputs": [
    {
     "data": {
      "text/plain": [
       "0       121.55\n",
       "1       120.90\n",
       "2       120.65\n",
       "3       117.60\n",
       "4       118.65\n",
       "         ...  \n",
       "2030    233.30\n",
       "2031    236.10\n",
       "2032    234.25\n",
       "2033    233.25\n",
       "2034    233.75\n",
       "Name: Close, Length: 2035, dtype: float64"
      ]
     },
     "execution_count": 14,
     "metadata": {},
     "output_type": "execute_result"
    }
   ],
   "source": [
    "df1"
   ]
  },
  {
   "cell_type": "code",
   "execution_count": 15,
   "id": "316956ce",
   "metadata": {},
   "outputs": [],
   "source": [
    "import matplotlib.pyplot as plt"
   ]
  },
  {
   "cell_type": "code",
   "execution_count": 16,
   "id": "05ede484",
   "metadata": {},
   "outputs": [
    {
     "data": {
      "text/plain": [
       "[<matplotlib.lines.Line2D at 0x7f4b2050ab50>]"
      ]
     },
     "execution_count": 16,
     "metadata": {},
     "output_type": "execute_result"
    },
    {
     "data": {
      "image/png": "[encoded data removed]",
      "text/plain": [
       "<Figure size 432x288 with 1 Axes>"
      ]
     },
     "metadata": {
      "needs_background": "light"
     },
     "output_type": "display_data"
    }
   ],
   "source": [
    "plt.plot(df1)"
   ]
  },
  {
   "cell_type": "markdown",
   "id": "d65c9a8b",
   "metadata": {},
   "source": [
    "### Feature Scaling"
   ]
  },
  {
   "cell_type": "markdown",
   "id": "1d813a96",
   "metadata": {},
   "source": [
    "LSTM are sensitive to the scale of the data, so we will use MinMax Scaler to scale the data between(0,1)"
   ]
  },
  {
   "cell_type": "code",
   "execution_count": 17,
   "id": "a7e466ae",
   "metadata": {},
   "outputs": [],
   "source": [
    "import numpy as np\n",
    "from sklearn.preprocessing import MinMaxScaler"
   ]
  },
  {
   "cell_type": "code",
   "execution_count": 18,
   "id": "06e57acf",
   "metadata": {},
   "outputs": [],
   "source": [
    "scaler = MinMaxScaler(feature_range=(0,1))\n",
    "df1 = scaler.fit_transform(np.array(df1).reshape(-1,1))"
   ]
  },
  {
   "cell_type": "code",
   "execution_count": 19,
   "id": "e625355e",
   "metadata": {},
   "outputs": [
    {
     "data": {
      "text/plain": [
       "array([[0.16584967],\n",
       "       [0.16319444],\n",
       "       [0.1621732 ],\n",
       "       ...,\n",
       "       [0.62622549],\n",
       "       [0.62214052],\n",
       "       [0.62418301]])"
      ]
     },
     "execution_count": 19,
     "metadata": {},
     "output_type": "execute_result"
    }
   ],
   "source": [
    "df1"
   ]
  },
  {
   "cell_type": "code",
   "execution_count": null,
   "id": "eb79e6a6",
   "metadata": {},
   "outputs": [],
   "source": []
  },
  {
   "cell_type": "code",
   "execution_count": null,
   "id": "3e5e295b",
   "metadata": {},
   "outputs": [],
   "source": []
  },
  {
   "cell_type": "code",
   "execution_count": null,
   "id": "09d97421",
   "metadata": {},
   "outputs": [],
   "source": []
  },
  {
   "cell_type": "markdown",
   "id": "676449f4",
   "metadata": {},
   "source": [
    "### Train and Test data"
   ]
  },
  {
   "cell_type": "markdown",
   "id": "b68ea355",
   "metadata": {},
   "source": [
    "lets set train data to be 70% and test data 30%"
   ]
  },
  {
   "cell_type": "code",
   "execution_count": 20,
   "id": "10dc0225",
   "metadata": {},
   "outputs": [],
   "source": [
    "training_size = int(len(df1)*0.70)\n",
    "test_size = len(df1) - training_size"
   ]
  },
  {
   "cell_type": "code",
   "execution_count": 21,
   "id": "07734640",
   "metadata": {},
   "outputs": [],
   "source": [
    "train_data , test_data = df1[:training_size,:] , df1[training_size:len(df1),:1]"
   ]
  },
  {
   "cell_type": "code",
   "execution_count": 22,
   "id": "4b8e3684",
   "metadata": {},
   "outputs": [
    {
     "data": {
      "text/plain": [
       "1424"
      ]
     },
     "execution_count": 22,
     "metadata": {},
     "output_type": "execute_result"
    }
   ],
   "source": [
    "len(train_data)"
   ]
  },
  {
   "cell_type": "code",
   "execution_count": 23,
   "id": "a01c09e6",
   "metadata": {},
   "outputs": [
    {
     "data": {
      "text/plain": [
       "611"
      ]
     },
     "execution_count": 23,
     "metadata": {},
     "output_type": "execute_result"
    }
   ],
   "source": [
    "len(test_data)"
   ]
  },
  {
   "cell_type": "markdown",
   "id": "68bc30c2",
   "metadata": {},
   "source": [
    "### Time Series Data Matrix"
   ]
  },
  {
   "cell_type": "markdown",
   "id": "31d00ddb",
   "metadata": {},
   "source": [
    "data = [20,30,40,50,60,70,80,90]\n",
    "\n",
    "let time_step = 3\n",
    "\n",
    "#### time series matrix\n",
    "\n",
    "\n",
    "\n",
    "20 30 40 -- 50\n",
    "\n",
    "30 40 50 -- 60\n",
    "\n",
    "40 50 60 -- 70\n",
    "\n",
    "50 60 70 -- 80\n",
    "\n",
    "60 70 80 -- 90"
   ]
  },
  {
   "cell_type": "code",
   "execution_count": 24,
   "id": "98972d6e",
   "metadata": {},
   "outputs": [],
   "source": [
    "def create_matrix(data,timesteps):\n",
    "    X_data , y_data = [] , []\n",
    "    for i in range(len(data)-timesteps-1):\n",
    "        val = data[i:(i+timesteps),0]\n",
    "        X_data.append(val)\n",
    "        y_data.append(data[i+timesteps,0])\n",
    "    return np.array(X_data) , np.array(y_data)"
   ]
  },
  {
   "cell_type": "code",
   "execution_count": 25,
   "id": "b7e883c5",
   "metadata": {},
   "outputs": [],
   "source": [
    "timestep = 100\n",
    "X_train, y_train = create_matrix(train_data,timestep)\n",
    "X_test, y_test = create_matrix(test_data,timestep)"
   ]
  },
  {
   "cell_type": "code",
   "execution_count": 26,
   "id": "81e3ecf4",
   "metadata": {},
   "outputs": [
    {
     "data": {
      "text/plain": [
       "((1323, 100), (510, 100))"
      ]
     },
     "execution_count": 26,
     "metadata": {},
     "output_type": "execute_result"
    }
   ],
   "source": [
    "X_train.shape,X_test.shape"
   ]
  },
  {
   "cell_type": "code",
   "execution_count": 27,
   "id": "8f4f934d",
   "metadata": {},
   "outputs": [
    {
     "data": {
      "text/plain": [
       "((1323,), (510,))"
      ]
     },
     "execution_count": 27,
     "metadata": {},
     "output_type": "execute_result"
    }
   ],
   "source": [
    "y_train.shape,y_test.shape"
   ]
  },
  {
   "cell_type": "markdown",
   "id": "130c13b5",
   "metadata": {},
   "source": [
    "rehaping train and test data, which is essential for LSTM model\n",
    "---> [sample_data,time steps,features]"
   ]
  },
  {
   "cell_type": "code",
   "execution_count": 28,
   "id": "9ef5a8da",
   "metadata": {},
   "outputs": [],
   "source": [
    "X_train = X_train.reshape(X_train.shape[0],X_train.shape[1],1)\n",
    "X_test = X_test.reshape(X_test.shape[0],X_test.shape[1],1)"
   ]
  },
  {
   "cell_type": "code",
   "execution_count": 29,
   "id": "4f5fbaab",
   "metadata": {},
   "outputs": [
    {
     "data": {
      "text/plain": [
       "((1323, 100, 1), (510, 100, 1))"
      ]
     },
     "execution_count": 29,
     "metadata": {},
     "output_type": "execute_result"
    }
   ],
   "source": [
    "X_train.shape , X_test.shape"
   ]
  },
  {
   "cell_type": "code",
   "execution_count": null,
   "id": "c4f6f302",
   "metadata": {},
   "outputs": [],
   "source": []
  },
  {
   "cell_type": "markdown",
   "id": "fabef3c5",
   "metadata": {},
   "source": [
    "### LSTM model creation"
   ]
  },
  {
   "cell_type": "code",
   "execution_count": 30,
   "id": "e1debdc0",
   "metadata": {},
   "outputs": [
    {
     "name": "stderr",
     "output_type": "stream",
     "text": [
      "2022-07-15 20:59:29.571754: W tensorflow/stream_executor/platform/default/dso_loader.cc:64] Could not load dynamic library 'libcudart.so.11.0'; dlerror: libcudart.so.11.0: cannot open shared object file: No such file or directory\n",
      "2022-07-15 20:59:29.571779: I tensorflow/stream_executor/cuda/cudart_stub.cc:29] Ignore above cudart dlerror if you do not have a GPU set up on your machine.\n"
     ]
    }
   ],
   "source": [
    "from tensorflow.keras.models import Sequential\n",
    "from tensorflow.keras.layers import Dense\n",
    "from tensorflow.keras.layers import LSTM"
   ]
  },
  {
   "cell_type": "code",
   "execution_count": 31,
   "id": "f2f15880",
   "metadata": {},
   "outputs": [
    {
     "name": "stderr",
     "output_type": "stream",
     "text": [
      "2022-07-15 20:59:30.909578: W tensorflow/stream_executor/platform/default/dso_loader.cc:64] Could not load dynamic library 'libcuda.so.1'; dlerror: libcuda.so.1: cannot open shared object file: No such file or directory\n",
      "2022-07-15 20:59:30.909616: W tensorflow/stream_executor/cuda/cuda_driver.cc:269] failed call to cuInit: UNKNOWN ERROR (303)\n",
      "2022-07-15 20:59:30.909642: I tensorflow/stream_executor/cuda/cuda_diagnostics.cc:156] kernel driver does not appear to be running on this host (raj-lenovo-ideapad): /proc/driver/nvidia/version does not exist\n",
      "2022-07-15 20:59:30.909968: I tensorflow/core/platform/cpu_feature_guard.cc:193] This TensorFlow binary is optimized with oneAPI Deep Neural Network Library (oneDNN) to use the following CPU instructions in performance-critical operations:  AVX2 FMA\n",
      "To enable them in other operations, rebuild TensorFlow with the appropriate compiler flags.\n"
     ]
    }
   ],
   "source": [
    "model = Sequential()\n",
    "model.add(LSTM(50,return_sequences=True,input_shape = (100,1)))\n",
    "model.add(LSTM(50,return_sequences=True))\n",
    "model.add(LSTM(50))\n",
    "model.add(Dense(1))\n",
    "model.compile(loss='mean_squared_error',optimizer = 'adam')"
   ]
  },
  {
   "cell_type": "code",
   "execution_count": 32,
   "id": "9836e942",
   "metadata": {},
   "outputs": [
    {
     "name": "stdout",
     "output_type": "stream",
     "text": [
      "Model: \"sequential\"\n",
      "_________________________________________________________________\n",
      " Layer (type)                Output Shape              Param #   \n",
      "=================================================================\n",
      " lstm (LSTM)                 (None, 100, 50)           10400     \n",
      "                                                                 \n",
      " lstm_1 (LSTM)               (None, 100, 50)           20200     \n",
      "                                                                 \n",
      " lstm_2 (LSTM)               (None, 50)                20200     \n",
      "                                                                 \n",
      " dense (Dense)               (None, 1)                 51        \n",
      "                                                                 \n",
      "=================================================================\n",
      "Total params: 50,851\n",
      "Trainable params: 50,851\n",
      "Non-trainable params: 0\n",
      "_________________________________________________________________\n"
     ]
    }
   ],
   "source": [
    "model.summary()"
   ]
  },
  {
   "cell_type": "code",
   "execution_count": 33,
   "id": "3293fbb0",
   "metadata": {},
   "outputs": [
    {
     "name": "stdout",
     "output_type": "stream",
     "text": [
      "Epoch 1/100\n",
      "21/21 [==============================] - 8s 167ms/step - loss: 0.0106 - val_loss: 0.0280\n",
      "Epoch 2/100\n",
      "21/21 [==============================] - 2s 117ms/step - loss: 0.0019 - val_loss: 0.0047\n",
      "Epoch 3/100\n",
      "21/21 [==============================] - 2s 118ms/step - loss: 9.4582e-04 - val_loss: 0.0051\n",
      "Epoch 4/100\n",
      "21/21 [==============================] - 2s 119ms/step - loss: 8.6841e-04 - val_loss: 0.0049\n",
      "Epoch 5/100\n",
      "21/21 [==============================] - 2s 118ms/step - loss: 8.2375e-04 - val_loss: 0.0043\n",
      "Epoch 6/100\n",
      "21/21 [==============================] - 2s 118ms/step - loss: 7.9663e-04 - val_loss: 0.0039\n",
      "Epoch 7/100\n",
      "21/21 [==============================] - 2s 118ms/step - loss: 7.7125e-04 - val_loss: 0.0030\n",
      "Epoch 8/100\n",
      "21/21 [==============================] - 2s 119ms/step - loss: 7.3377e-04 - val_loss: 0.0044\n",
      "Epoch 9/100\n",
      "21/21 [==============================] - 2s 119ms/step - loss: 7.0016e-04 - val_loss: 0.0048\n",
      "Epoch 10/100\n",
      "21/21 [==============================] - 3s 120ms/step - loss: 7.5054e-04 - val_loss: 0.0028\n",
      "Epoch 11/100\n",
      "21/21 [==============================] - 2s 119ms/step - loss: 6.6027e-04 - val_loss: 0.0071\n",
      "Epoch 12/100\n",
      "21/21 [==============================] - 2s 119ms/step - loss: 6.5653e-04 - val_loss: 0.0027\n",
      "Epoch 13/100\n",
      "21/21 [==============================] - 2s 118ms/step - loss: 6.0391e-04 - val_loss: 0.0036\n",
      "Epoch 14/100\n",
      "21/21 [==============================] - 2s 119ms/step - loss: 6.0753e-04 - val_loss: 0.0043\n",
      "Epoch 15/100\n",
      "21/21 [==============================] - 2s 120ms/step - loss: 6.0418e-04 - val_loss: 0.0066\n",
      "Epoch 16/100\n",
      "21/21 [==============================] - 2s 119ms/step - loss: 5.8361e-04 - val_loss: 0.0038\n",
      "Epoch 17/100\n",
      "21/21 [==============================] - 2s 119ms/step - loss: 5.3331e-04 - val_loss: 0.0045\n",
      "Epoch 18/100\n",
      "21/21 [==============================] - 3s 121ms/step - loss: 5.4193e-04 - val_loss: 0.0075\n",
      "Epoch 19/100\n",
      "21/21 [==============================] - 3s 126ms/step - loss: 5.5896e-04 - val_loss: 0.0046\n",
      "Epoch 20/100\n",
      "21/21 [==============================] - 3s 128ms/step - loss: 5.0097e-04 - val_loss: 0.0030\n",
      "Epoch 21/100\n",
      "21/21 [==============================] - 3s 128ms/step - loss: 4.8923e-04 - val_loss: 0.0065\n",
      "Epoch 22/100\n",
      "21/21 [==============================] - 3s 127ms/step - loss: 4.9030e-04 - val_loss: 0.0026\n",
      "Epoch 23/100\n",
      "21/21 [==============================] - 3s 127ms/step - loss: 5.1503e-04 - val_loss: 0.0073\n",
      "Epoch 24/100\n",
      "21/21 [==============================] - 3s 126ms/step - loss: 4.6539e-04 - val_loss: 0.0043\n",
      "Epoch 25/100\n",
      "21/21 [==============================] - 3s 126ms/step - loss: 4.3996e-04 - val_loss: 0.0023\n",
      "Epoch 26/100\n",
      "21/21 [==============================] - 3s 126ms/step - loss: 4.4039e-04 - val_loss: 0.0046\n",
      "Epoch 27/100\n",
      "21/21 [==============================] - 3s 128ms/step - loss: 4.4654e-04 - val_loss: 0.0022\n",
      "Epoch 28/100\n",
      "21/21 [==============================] - 3s 127ms/step - loss: 4.1771e-04 - val_loss: 0.0026\n",
      "Epoch 29/100\n",
      "21/21 [==============================] - 3s 128ms/step - loss: 4.3938e-04 - val_loss: 0.0023\n",
      "Epoch 30/100\n",
      "21/21 [==============================] - 3s 127ms/step - loss: 3.9266e-04 - val_loss: 0.0041\n",
      "Epoch 31/100\n",
      "21/21 [==============================] - 3s 126ms/step - loss: 3.6982e-04 - val_loss: 0.0021\n",
      "Epoch 32/100\n",
      "21/21 [==============================] - 3s 126ms/step - loss: 3.4748e-04 - val_loss: 0.0024\n",
      "Epoch 33/100\n",
      "21/21 [==============================] - 3s 128ms/step - loss: 3.3622e-04 - val_loss: 0.0026\n",
      "Epoch 34/100\n",
      "21/21 [==============================] - 3s 126ms/step - loss: 3.3720e-04 - val_loss: 0.0014\n",
      "Epoch 35/100\n",
      "21/21 [==============================] - 3s 127ms/step - loss: 3.6055e-04 - val_loss: 0.0010\n",
      "Epoch 36/100\n",
      "21/21 [==============================] - 3s 126ms/step - loss: 3.7358e-04 - val_loss: 0.0015\n",
      "Epoch 37/100\n",
      "21/21 [==============================] - 3s 127ms/step - loss: 3.1847e-04 - val_loss: 0.0015\n",
      "Epoch 38/100\n",
      "21/21 [==============================] - 3s 127ms/step - loss: 3.2035e-04 - val_loss: 0.0024\n",
      "Epoch 39/100\n",
      "21/21 [==============================] - 3s 127ms/step - loss: 2.8170e-04 - val_loss: 0.0019\n",
      "Epoch 40/100\n",
      "21/21 [==============================] - 3s 127ms/step - loss: 2.7120e-04 - val_loss: 0.0016\n",
      "Epoch 41/100\n",
      "21/21 [==============================] - 3s 127ms/step - loss: 2.7441e-04 - val_loss: 0.0018\n",
      "Epoch 42/100\n",
      "21/21 [==============================] - 3s 126ms/step - loss: 2.7342e-04 - val_loss: 9.4498e-04\n",
      "Epoch 43/100\n",
      "21/21 [==============================] - 3s 129ms/step - loss: 2.5847e-04 - val_loss: 0.0011\n",
      "Epoch 44/100\n",
      "21/21 [==============================] - 3s 129ms/step - loss: 2.5844e-04 - val_loss: 0.0022\n",
      "Epoch 45/100\n",
      "21/21 [==============================] - 3s 127ms/step - loss: 2.5566e-04 - val_loss: 0.0019\n",
      "Epoch 46/100\n",
      "21/21 [==============================] - 3s 127ms/step - loss: 2.2478e-04 - val_loss: 8.4659e-04\n",
      "Epoch 47/100\n",
      "21/21 [==============================] - 3s 127ms/step - loss: 2.3261e-04 - val_loss: 0.0023\n",
      "Epoch 48/100\n",
      "21/21 [==============================] - 3s 127ms/step - loss: 2.2805e-04 - val_loss: 7.3758e-04\n",
      "Epoch 49/100\n",
      "21/21 [==============================] - 3s 129ms/step - loss: 2.2666e-04 - val_loss: 0.0013\n",
      "Epoch 50/100\n",
      "21/21 [==============================] - 3s 127ms/step - loss: 2.3255e-04 - val_loss: 7.5735e-04\n",
      "Epoch 51/100\n",
      "21/21 [==============================] - 3s 127ms/step - loss: 2.0794e-04 - val_loss: 0.0015\n",
      "Epoch 52/100\n",
      "21/21 [==============================] - 3s 127ms/step - loss: 2.0754e-04 - val_loss: 0.0013\n",
      "Epoch 53/100\n",
      "21/21 [==============================] - 3s 128ms/step - loss: 2.8557e-04 - val_loss: 0.0036\n",
      "Epoch 54/100\n",
      "21/21 [==============================] - 3s 128ms/step - loss: 2.2338e-04 - val_loss: 0.0014\n",
      "Epoch 55/100\n",
      "21/21 [==============================] - 3s 127ms/step - loss: 1.8884e-04 - val_loss: 0.0012\n",
      "Epoch 56/100\n",
      "21/21 [==============================] - 3s 127ms/step - loss: 1.8554e-04 - val_loss: 0.0014\n",
      "Epoch 57/100\n",
      "21/21 [==============================] - 3s 128ms/step - loss: 1.9458e-04 - val_loss: 5.9952e-04\n",
      "Epoch 58/100\n",
      "21/21 [==============================] - 3s 127ms/step - loss: 1.8491e-04 - val_loss: 0.0014\n",
      "Epoch 59/100\n",
      "21/21 [==============================] - 3s 127ms/step - loss: 1.7629e-04 - val_loss: 0.0011\n",
      "Epoch 60/100\n",
      "21/21 [==============================] - 3s 127ms/step - loss: 1.6872e-04 - val_loss: 0.0012\n",
      "Epoch 61/100\n",
      "21/21 [==============================] - 3s 128ms/step - loss: 1.8452e-04 - val_loss: 0.0018\n",
      "Epoch 62/100\n",
      "21/21 [==============================] - 3s 127ms/step - loss: 1.8145e-04 - val_loss: 0.0017\n",
      "Epoch 63/100\n",
      "21/21 [==============================] - 3s 127ms/step - loss: 1.9458e-04 - val_loss: 6.3084e-04\n",
      "Epoch 64/100\n",
      "21/21 [==============================] - 3s 127ms/step - loss: 1.7441e-04 - val_loss: 0.0019\n",
      "Epoch 65/100\n",
      "21/21 [==============================] - 3s 129ms/step - loss: 2.0886e-04 - val_loss: 8.9931e-04\n",
      "Epoch 66/100\n",
      "21/21 [==============================] - 3s 130ms/step - loss: 1.7010e-04 - val_loss: 7.0637e-04\n",
      "Epoch 67/100\n",
      "21/21 [==============================] - 3s 129ms/step - loss: 1.6328e-04 - val_loss: 8.8551e-04\n",
      "Epoch 68/100\n",
      "21/21 [==============================] - 3s 129ms/step - loss: 1.4938e-04 - val_loss: 0.0015\n",
      "Epoch 69/100\n",
      "21/21 [==============================] - 3s 129ms/step - loss: 1.9054e-04 - val_loss: 5.4669e-04\n",
      "Epoch 70/100\n",
      "21/21 [==============================] - 3s 128ms/step - loss: 1.9919e-04 - val_loss: 5.6546e-04\n",
      "Epoch 71/100\n",
      "21/21 [==============================] - 3s 136ms/step - loss: 1.7363e-04 - val_loss: 7.0563e-04\n",
      "Epoch 72/100\n",
      "21/21 [==============================] - 3s 143ms/step - loss: 1.5096e-04 - val_loss: 0.0010\n",
      "Epoch 73/100\n",
      "21/21 [==============================] - 3s 127ms/step - loss: 1.4097e-04 - val_loss: 6.1371e-04\n",
      "Epoch 74/100\n",
      "21/21 [==============================] - 3s 127ms/step - loss: 1.4814e-04 - val_loss: 0.0012\n",
      "Epoch 75/100\n",
      "21/21 [==============================] - 3s 130ms/step - loss: 1.7607e-04 - val_loss: 5.5820e-04\n",
      "Epoch 76/100\n",
      "21/21 [==============================] - 3s 145ms/step - loss: 1.7180e-04 - val_loss: 6.5081e-04\n",
      "Epoch 77/100\n",
      "21/21 [==============================] - 3s 134ms/step - loss: 1.4610e-04 - val_loss: 6.5634e-04\n"
     ]
    },
    {
     "name": "stdout",
     "output_type": "stream",
     "text": [
      "Epoch 78/100\n",
      "21/21 [==============================] - 3s 127ms/step - loss: 1.4226e-04 - val_loss: 7.6964e-04\n",
      "Epoch 79/100\n",
      "21/21 [==============================] - 3s 126ms/step - loss: 1.4671e-04 - val_loss: 6.4005e-04\n",
      "Epoch 80/100\n",
      "21/21 [==============================] - 3s 127ms/step - loss: 1.3936e-04 - val_loss: 8.7620e-04\n",
      "Epoch 81/100\n",
      "21/21 [==============================] - 3s 128ms/step - loss: 1.3512e-04 - val_loss: 0.0016\n",
      "Epoch 82/100\n",
      "21/21 [==============================] - 3s 127ms/step - loss: 1.3688e-04 - val_loss: 9.4877e-04\n",
      "Epoch 83/100\n",
      "21/21 [==============================] - 3s 127ms/step - loss: 1.3485e-04 - val_loss: 9.8674e-04\n",
      "Epoch 84/100\n",
      "21/21 [==============================] - 3s 126ms/step - loss: 1.3975e-04 - val_loss: 9.3607e-04\n",
      "Epoch 85/100\n",
      "21/21 [==============================] - 3s 126ms/step - loss: 1.3660e-04 - val_loss: 0.0011\n",
      "Epoch 86/100\n",
      "21/21 [==============================] - 3s 127ms/step - loss: 1.3922e-04 - val_loss: 0.0011\n",
      "Epoch 87/100\n",
      "21/21 [==============================] - 3s 126ms/step - loss: 1.3573e-04 - val_loss: 9.8126e-04\n",
      "Epoch 88/100\n",
      "21/21 [==============================] - 3s 127ms/step - loss: 1.3367e-04 - val_loss: 0.0011\n",
      "Epoch 89/100\n",
      "21/21 [==============================] - 3s 127ms/step - loss: 1.3221e-04 - val_loss: 0.0010\n",
      "Epoch 90/100\n",
      "21/21 [==============================] - 3s 127ms/step - loss: 1.3882e-04 - val_loss: 0.0016\n",
      "Epoch 91/100\n",
      "21/21 [==============================] - 3s 127ms/step - loss: 1.3660e-04 - val_loss: 0.0010\n",
      "Epoch 92/100\n",
      "21/21 [==============================] - 3s 128ms/step - loss: 1.3520e-04 - val_loss: 8.9157e-04\n",
      "Epoch 93/100\n",
      "21/21 [==============================] - 3s 127ms/step - loss: 1.3419e-04 - val_loss: 8.4904e-04\n",
      "Epoch 94/100\n",
      "21/21 [==============================] - 3s 127ms/step - loss: 1.4838e-04 - val_loss: 0.0013\n",
      "Epoch 95/100\n",
      "21/21 [==============================] - 3s 127ms/step - loss: 1.3916e-04 - val_loss: 0.0010\n",
      "Epoch 96/100\n",
      "21/21 [==============================] - 3s 127ms/step - loss: 1.2806e-04 - val_loss: 9.3968e-04\n",
      "Epoch 97/100\n",
      "21/21 [==============================] - 3s 127ms/step - loss: 1.2785e-04 - val_loss: 0.0013\n",
      "Epoch 98/100\n",
      "21/21 [==============================] - 3s 127ms/step - loss: 1.3566e-04 - val_loss: 0.0012\n",
      "Epoch 99/100\n",
      "21/21 [==============================] - 3s 128ms/step - loss: 1.4368e-04 - val_loss: 0.0020\n",
      "Epoch 100/100\n",
      "21/21 [==============================] - 3s 127ms/step - loss: 1.8269e-04 - val_loss: 0.0012\n"
     ]
    },
    {
     "data": {
      "text/plain": [
       "<keras.callbacks.History at 0x7f4ad513d820>"
      ]
     },
     "execution_count": 33,
     "metadata": {},
     "output_type": "execute_result"
    }
   ],
   "source": [
    "## Training recurrent neural network\n",
    "model.fit(X_train,y_train,validation_data=(X_test,y_test),epochs=100,batch_size=64,verbose=1)"
   ]
  },
  {
   "cell_type": "code",
   "execution_count": 34,
   "id": "2a765f6b",
   "metadata": {},
   "outputs": [
    {
     "data": {
      "text/plain": [
       "[<matplotlib.lines.Line2D at 0x7f4ad00c4d60>]"
      ]
     },
     "execution_count": 34,
     "metadata": {},
     "output_type": "execute_result"
    },
    {
     "data": {
      "image/png": "[encoded data removed]",
      "text/plain": [
       "<Figure size 432x288 with 1 Axes>"
      ]
     },
     "metadata": {
      "needs_background": "light"
     },
     "output_type": "display_data"
    }
   ],
   "source": [
    "## plotting loss\n",
    "plt.plot(model.history.history['loss'])"
   ]
  },
  {
   "cell_type": "markdown",
   "id": "2bade2de",
   "metadata": {},
   "source": [
    "### Prediction"
   ]
  },
  {
   "cell_type": "code",
   "execution_count": 35,
   "id": "5d8770fd",
   "metadata": {},
   "outputs": [
    {
     "name": "stdout",
     "output_type": "stream",
     "text": [
      "42/42 [==============================] - 2s 29ms/step\n",
      "16/16 [==============================] - 0s 29ms/step\n"
     ]
    }
   ],
   "source": [
    "train_predict = model.predict(X_train)\n",
    "test_predict = model.predict(X_test)"
   ]
  },
  {
   "cell_type": "code",
   "execution_count": 36,
   "id": "a3c1c039",
   "metadata": {},
   "outputs": [],
   "source": [
    "## transform data to original scale\n",
    "train_predict = scaler.inverse_transform(train_predict)\n",
    "test_predict = scaler.inverse_transform(test_predict)"
   ]
  },
  {
   "cell_type": "code",
   "execution_count": 37,
   "id": "e1f63501",
   "metadata": {},
   "outputs": [],
   "source": [
    "look_back = 100"
   ]
  },
  {
   "cell_type": "code",
   "execution_count": 38,
   "id": "663760b9",
   "metadata": {},
   "outputs": [],
   "source": [
    "training_plot = np.empty_like(df1)\n",
    "training_plot[:,:] = np.nan\n",
    "training_plot[look_back:len(train_predict) + look_back] = train_predict"
   ]
  },
  {
   "cell_type": "code",
   "execution_count": 39,
   "id": "c6299b2e",
   "metadata": {},
   "outputs": [],
   "source": [
    "test_plot = np.empty_like(df1)\n",
    "test_plot[:,:] = np.nan\n",
    "test_plot[len(train_predict)+(look_back*2)+1:len(df1)-1,:] = test_predict"
   ]
  },
  {
   "cell_type": "code",
   "execution_count": 40,
   "id": "a5006279",
   "metadata": {},
   "outputs": [
    {
     "data": {
      "text/plain": [
       "[<matplotlib.lines.Line2D at 0x7f4ac8ec59a0>]"
      ]
     },
     "execution_count": 40,
     "metadata": {},
     "output_type": "execute_result"
    },
    {
     "data": {
      "image/png": "[encoded data removed]",
      "text/plain": [
       "<Figure size 432x288 with 1 Axes>"
      ]
     },
     "metadata": {
      "needs_background": "light"
     },
     "output_type": "display_data"
    }
   ],
   "source": [
    "## original plot\n",
    "plt.plot(scaler.inverse_transform(df1))"
   ]
  },
  {
   "cell_type": "code",
   "execution_count": 41,
   "id": "f4c5ef75",
   "metadata": {},
   "outputs": [
    {
     "data": {
      "text/plain": [
       "[<matplotlib.lines.Line2D at 0x7f4ac970ab50>]"
      ]
     },
     "execution_count": 41,
     "metadata": {},
     "output_type": "execute_result"
    },
    {
     "data": {
      "image/png": "[encoded data removed]",
      "text/plain": [
       "<Figure size 432x288 with 1 Axes>"
      ]
     },
     "metadata": {
      "needs_background": "light"
     },
     "output_type": "display_data"
    }
   ],
   "source": [
    "## predicted plot\n",
    "plt.plot(training_plot)\n",
    "plt.plot(test_plot)"
   ]
  },
  {
   "cell_type": "markdown",
   "id": "9eb1c334",
   "metadata": {},
   "source": [
    "### Calculate RMSE performance metrics"
   ]
  },
  {
   "cell_type": "code",
   "execution_count": 42,
   "id": "a63d730f",
   "metadata": {},
   "outputs": [],
   "source": [
    "import math\n",
    "from sklearn.metrics import mean_squared_error\n"
   ]
  },
  {
   "cell_type": "code",
   "execution_count": 43,
   "id": "3072255b",
   "metadata": {},
   "outputs": [
    {
     "data": {
      "text/plain": [
       "134.25935030968404"
      ]
     },
     "execution_count": 43,
     "metadata": {},
     "output_type": "execute_result"
    }
   ],
   "source": [
    "math.sqrt(mean_squared_error(y_train,train_predict))"
   ]
  },
  {
   "cell_type": "code",
   "execution_count": 44,
   "id": "f1067601",
   "metadata": {},
   "outputs": [
    {
     "data": {
      "text/plain": [
       "208.57208565494207"
      ]
     },
     "execution_count": 44,
     "metadata": {},
     "output_type": "execute_result"
    }
   ],
   "source": [
    "math.sqrt(mean_squared_error(y_test,test_predict))"
   ]
  },
  {
   "cell_type": "markdown",
   "id": "9eae4a04",
   "metadata": {},
   "source": [
    "### prediction of next 100 days price"
   ]
  },
  {
   "cell_type": "code",
   "execution_count": 45,
   "id": "ba14137c",
   "metadata": {},
   "outputs": [
    {
     "data": {
      "text/plain": [
       "611"
      ]
     },
     "execution_count": 45,
     "metadata": {},
     "output_type": "execute_result"
    }
   ],
   "source": [
    "len(test_data)"
   ]
  },
  {
   "cell_type": "code",
   "execution_count": 46,
   "id": "9561d9d3",
   "metadata": {},
   "outputs": [
    {
     "data": {
      "text/plain": [
       "(1, 100)"
      ]
     },
     "execution_count": 46,
     "metadata": {},
     "output_type": "execute_result"
    }
   ],
   "source": [
    "##last 100 days data for further predictions\n",
    "x_input = test_data[511:].reshape(1,-1)\n",
    "x_input.shape"
   ]
  },
  {
   "cell_type": "code",
   "execution_count": 47,
   "id": "eef6f908",
   "metadata": {},
   "outputs": [
    {
     "data": {
      "text/plain": [
       "100"
      ]
     },
     "execution_count": 47,
     "metadata": {},
     "output_type": "execute_result"
    }
   ],
   "source": [
    "temp_input = list(x_input)\n",
    "temp_input = temp_input[0].tolist()\n",
    "len(temp_input)"
   ]
  },
  {
   "cell_type": "code",
   "execution_count": 48,
   "id": "9c8e6f8f",
   "metadata": {},
   "outputs": [],
   "source": [
    "output = []\n",
    "steps = 100 ## same as timesteps\n",
    "i = 0\n",
    "while i<100:\n",
    "    if (len(temp_input)>100):\n",
    "        x_input = np.array(temp_input[1:])\n",
    "        x_input = x_input.reshape(1,-1)\n",
    "        x_input = x_input.reshape((1,steps,1))\n",
    "        y_hat = model.predict(x_input,verbose=0)\n",
    "        temp_input.extend(y_hat[0].tolist())\n",
    "        temp_input = temp_input[1:]\n",
    "        output.extend(y_hat.tolist())\n",
    "        i+=1\n",
    "    else:\n",
    "        x_input = x_input.reshape((1,steps,1))\n",
    "        y_hat = model.predict(x_input,verbose=0)\n",
    "        temp_input.extend(y_hat[0].tolist())\n",
    "        output.extend(y_hat.tolist())\n",
    "        i+=1"
   ]
  },
  {
   "cell_type": "code",
   "execution_count": 49,
   "id": "c896c38f",
   "metadata": {},
   "outputs": [
    {
     "data": {
      "text/plain": [
       "100"
      ]
     },
     "execution_count": 49,
     "metadata": {},
     "output_type": "execute_result"
    }
   ],
   "source": [
    "len(output)"
   ]
  },
  {
   "cell_type": "code",
   "execution_count": 50,
   "id": "39be0bff",
   "metadata": {},
   "outputs": [],
   "source": [
    "df2 = df1.tolist()\n",
    "df2.extend(output)"
   ]
  },
  {
   "cell_type": "code",
   "execution_count": 51,
   "id": "532ebe23",
   "metadata": {},
   "outputs": [],
   "source": [
    "day_new = np.arange(1,101)\n",
    "day_pred = np.arange(101,201)"
   ]
  },
  {
   "cell_type": "code",
   "execution_count": 52,
   "id": "7e6b8fbb",
   "metadata": {},
   "outputs": [
    {
     "data": {
      "text/plain": [
       "2035"
      ]
     },
     "execution_count": 52,
     "metadata": {},
     "output_type": "execute_result"
    }
   ],
   "source": [
    "len(df1)"
   ]
  },
  {
   "cell_type": "code",
   "execution_count": 53,
   "id": "77aae382",
   "metadata": {},
   "outputs": [
    {
     "data": {
      "text/plain": [
       "[<matplotlib.lines.Line2D at 0x7f4ac8bb86a0>]"
      ]
     },
     "execution_count": 53,
     "metadata": {},
     "output_type": "execute_result"
    },
    {
     "data": {
      "image/png": "[encoded data removed]",
      "text/plain": [
       "<Figure size 432x288 with 1 Axes>"
      ]
     },
     "metadata": {
      "needs_background": "light"
     },
     "output_type": "display_data"
    }
   ],
   "source": [
    "plt.plot(day_new,scaler.inverse_transform(df1[1935:]))\n",
    "plt.plot(day_pred,scaler.inverse_transform(output))"
   ]
  },
  {
   "cell_type": "code",
   "execution_count": 54,
   "id": "a981f0ef",
   "metadata": {},
   "outputs": [
    {
     "data": {
      "text/plain": [
       "2135"
      ]
     },
     "execution_count": 54,
     "metadata": {},
     "output_type": "execute_result"
    }
   ],
   "source": [
    "len(df2)"
   ]
  },
  {
   "cell_type": "code",
   "execution_count": 57,
   "id": "5cb968a7",
   "metadata": {},
   "outputs": [
    {
     "data": {
      "text/plain": [
       "[<matplotlib.lines.Line2D at 0x7f4ac8a07a90>]"
      ]
     },
     "execution_count": 57,
     "metadata": {},
     "output_type": "execute_result"
    },
    {
     "data": {
      "image/png": "[encoded data removed]",
      "text/plain": [
       "<Figure size 432x288 with 1 Axes>"
      ]
     },
     "metadata": {
      "needs_background": "light"
     },
     "output_type": "display_data"
    }
   ],
   "source": [
    "plt.plot(scaler.inverse_transform(df2[2000:]))"
   ]
  },
  {
   "cell_type": "code",
   "execution_count": null,
   "id": "234e22cb",
   "metadata": {},
   "outputs": [],
   "source": []
  },
  {
   "cell_type": "code",
   "execution_count": null,
   "id": "2497ab48",
   "metadata": {},
   "outputs": [],
   "source": []
  }
 ],
 "metadata": {
  "kernelspec": {
   "display_name": "Python 3 (ipykernel)",
   "language": "python",
   "name": "python3"
  },
  "language_info": {
   "codemirror_mode": {
    "name": "ipython",
    "version": 3
   },
   "file_extension": ".py",
   "mimetype": "text/x-python",
   "name": "python",
   "nbconvert_exporter": "python",
   "pygments_lexer": "ipython3",
   "version": "3.9.7"
  }
 },
 "nbformat": 4,
 "nbformat_minor": 5
}
